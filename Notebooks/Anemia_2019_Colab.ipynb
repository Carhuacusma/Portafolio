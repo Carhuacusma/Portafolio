{
  "nbformat": 4,
  "nbformat_minor": 0,
  "metadata": {
    "colab": {
      "name": "Anemia.ipynb",
      "provenance": [],
      "toc_visible": true,
      "authorship_tag": "ABX9TyM3i7fVwBKg0pJ8/BSsiMlg",
      "include_colab_link": true
    },
    "kernelspec": {
      "name": "python3",
      "display_name": "Python 3"
    },
    "language_info": {
      "name": "python"
    }
  },
  "cells": [
    {
      "cell_type": "markdown",
      "metadata": {
        "id": "view-in-github",
        "colab_type": "text"
      },
      "source": [
        "<a href=\"https://colab.research.google.com/github/Carhuacusma/Portafolio/blob/main/Notebooks/Anemia_2019_Colab.ipynb\" target=\"_parent\"><img src=\"https://colab.research.google.com/assets/colab-badge.svg\" alt=\"Open In Colab\"/></a>"
      ]
    },
    {
      "cell_type": "markdown",
      "metadata": {
        "id": "SYdyI07Tr_15"
      },
      "source": [
        "# Análisis de datos sobre la anemia infantil en Tiabaya, Arequipa (2019)"
      ]
    },
    {
      "cell_type": "markdown",
      "metadata": {
        "id": "K_WQjM1BHV1g"
      },
      "source": [
        "**Realizado por:** Dante Brandon Moreno Carhuacusma"
      ]
    },
    {
      "cell_type": "markdown",
      "metadata": {
        "id": "BkYSheG_sLdl"
      },
      "source": [
        "## Información"
      ]
    },
    {
      "cell_type": "markdown",
      "metadata": {
        "id": "x5E_tdF2qbvM"
      },
      "source": [
        "* El conjunto de datos consiste de los datos recopilados por el Instituto Nacional de Salud publicados en el [Portal Nacional de Datos Abiertos](https://www.datosabiertos.gob.pe/dataset/sistema-de-informaci%C3%B3n-del-estado-nutricional-de-ni%C3%B1os-y-gestantes-per%C3%BA-inscenan-instituto)\n",
        "* El presente notebook consiste principalmente en el análisis exploratorio de los datos recopilados en el departamento de Arequipa, Perú "
      ]
    },
    {
      "cell_type": "markdown",
      "metadata": {
        "id": "p_qtZeabsP0M"
      },
      "source": [
        "## Análisis exploratorio"
      ]
    },
    {
      "cell_type": "markdown",
      "metadata": {
        "id": "AjXy40s3jWmD"
      },
      "source": [
        "Leemos los datos:"
      ]
    },
    {
      "cell_type": "code",
      "metadata": {
        "colab": {
          "base_uri": "https://localhost:8080/"
        },
        "id": "K2hW4DrqpxlO",
        "outputId": "47f4bab6-1ed6-4fb5-c808-5971ba274f5b"
      },
      "source": [
        "import pandas as pd\n",
        "import numpy as np\n",
        "\n",
        "def read_data(name: str(), show: bool = False):\n",
        "  data = pd.read_csv(name)\n",
        "  if show:\n",
        "    print(\"Columnas  : \", len(data.columns))\n",
        "    print(\"Instancias: \", len(data))\n",
        "  return data\n",
        "\n",
        "data_HB_arequipa_19 = read_data('https://raw.githubusercontent.com/Carhuacusma/Portafolio/main/Notebooks/Datasets/HIS%20Ni%C3%B1os%202019/HB/Ni%C3%B1os%20AREQUIPA.csv', True)\n",
        "data_PT_arequipa_19 = read_data('https://raw.githubusercontent.com/Carhuacusma/Portafolio/main/Notebooks/Datasets/HIS%20Ni%C3%B1os%202019/PT/Ni%C3%B1os%20AREQUIPA.csv', True)"
      ],
      "execution_count": 1,
      "outputs": [
        {
          "output_type": "stream",
          "name": "stdout",
          "text": [
            "Columnas  :  32\n",
            "Instancias:  30405\n",
            "Columnas  :  37\n",
            "Instancias:  60440\n"
          ]
        }
      ]
    },
    {
      "cell_type": "markdown",
      "metadata": {
        "id": "SLt4dGqLn64P"
      },
      "source": [
        "### Data HB"
      ]
    },
    {
      "cell_type": "markdown",
      "metadata": {
        "id": "mTFExlPgn-Li"
      },
      "source": [
        "La data HB consta de 30405 filas, de 32 columnas cada una:"
      ]
    },
    {
      "cell_type": "code",
      "metadata": {
        "colab": {
          "base_uri": "https://localhost:8080/"
        },
        "id": "y-EBtColm1zD",
        "outputId": "4c5066d1-4dfb-4934-de74-b244cc62d6d6"
      },
      "source": [
        "data_HB_arequipa_19.info()"
      ],
      "execution_count": 8,
      "outputs": [
        {
          "output_type": "stream",
          "name": "stdout",
          "text": [
            "<class 'pandas.core.frame.DataFrame'>\n",
            "RangeIndex: 30405 entries, 0 to 30404\n",
            "Data columns (total 32 columns):\n",
            " #   Column            Non-Null Count  Dtype  \n",
            "---  ------            --------------  -----  \n",
            " 0   Diresa            30405 non-null  object \n",
            " 1   Red               30405 non-null  object \n",
            " 2   Microred          30405 non-null  object \n",
            " 3   EESS              30405 non-null  object \n",
            " 4   Renipress         30405 non-null  int64  \n",
            " 5   FechaAtencion     30405 non-null  object \n",
            " 6   Sexo              30405 non-null  object \n",
            " 7   FechaNacimiento   30405 non-null  object \n",
            " 8   EdadMeses         30405 non-null  int64  \n",
            " 9   UbigeoPN          30405 non-null  float64\n",
            " 10  DepartamentoPN    30405 non-null  object \n",
            " 11  ProvinciaPN       30405 non-null  object \n",
            " 12  DistritoPN        30405 non-null  object \n",
            " 13  CentroPobladoPN   30405 non-null  object \n",
            " 14  Juntos            30405 non-null  int64  \n",
            " 15  SIS               30405 non-null  int64  \n",
            " 16  Pin               30405 non-null  int64  \n",
            " 17  Qaliwarma         30405 non-null  int64  \n",
            " 18  Peso              30405 non-null  object \n",
            " 19  Talla             30405 non-null  object \n",
            " 20  Hemoglobina       30405 non-null  float64\n",
            " 21  FechaHemoglobina  30405 non-null  object \n",
            " 22  Cred              30405 non-null  int64  \n",
            " 23  Suplementacion    30405 non-null  int64  \n",
            " 24  Consejeria        30405 non-null  int64  \n",
            " 25  Sesion            30405 non-null  int64  \n",
            " 26  DEPARTAMENTO      30405 non-null  object \n",
            " 27  PROVINCIA         30405 non-null  object \n",
            " 28  DISTRITO          30405 non-null  object \n",
            " 29  ALTITUD           30405 non-null  int64  \n",
            " 30  HBC               30405 non-null  float64\n",
            " 31  Dx_Anemia         30405 non-null  object \n",
            "dtypes: float64(3), int64(11), object(18)\n",
            "memory usage: 7.4+ MB\n"
          ]
        }
      ]
    },
    {
      "cell_type": "code",
      "metadata": {
        "colab": {
          "base_uri": "https://localhost:8080/",
          "height": 320
        },
        "id": "rjn5qDZ_x83j",
        "outputId": "e13e50e9-0c02-49f3-a1db-5a4471e589e8"
      },
      "source": [
        "data_HB_arequipa_19.describe()"
      ],
      "execution_count": 19,
      "outputs": [
        {
          "output_type": "execute_result",
          "data": {
            "text/html": [
              "<div>\n",
              "<style scoped>\n",
              "    .dataframe tbody tr th:only-of-type {\n",
              "        vertical-align: middle;\n",
              "    }\n",
              "\n",
              "    .dataframe tbody tr th {\n",
              "        vertical-align: top;\n",
              "    }\n",
              "\n",
              "    .dataframe thead th {\n",
              "        text-align: right;\n",
              "    }\n",
              "</style>\n",
              "<table border=\"1\" class=\"dataframe\">\n",
              "  <thead>\n",
              "    <tr style=\"text-align: right;\">\n",
              "      <th></th>\n",
              "      <th>Renipress</th>\n",
              "      <th>EdadMeses</th>\n",
              "      <th>UbigeoPN</th>\n",
              "      <th>Juntos</th>\n",
              "      <th>SIS</th>\n",
              "      <th>Pin</th>\n",
              "      <th>Qaliwarma</th>\n",
              "      <th>Hemoglobina</th>\n",
              "      <th>Cred</th>\n",
              "      <th>Suplementacion</th>\n",
              "      <th>Consejeria</th>\n",
              "      <th>Sesion</th>\n",
              "      <th>ALTITUD</th>\n",
              "      <th>HBC</th>\n",
              "    </tr>\n",
              "  </thead>\n",
              "  <tbody>\n",
              "    <tr>\n",
              "      <th>count</th>\n",
              "      <td>30405.000000</td>\n",
              "      <td>30405.000000</td>\n",
              "      <td>30405.000000</td>\n",
              "      <td>30405.000000</td>\n",
              "      <td>30405.000000</td>\n",
              "      <td>30405.0</td>\n",
              "      <td>30405.000000</td>\n",
              "      <td>30405.000000</td>\n",
              "      <td>30405.000000</td>\n",
              "      <td>30405.000000</td>\n",
              "      <td>30405.000000</td>\n",
              "      <td>30405.000000</td>\n",
              "      <td>30405.000000</td>\n",
              "      <td>30405.000000</td>\n",
              "    </tr>\n",
              "    <tr>\n",
              "      <th>mean</th>\n",
              "      <td>1919.792468</td>\n",
              "      <td>26.597994</td>\n",
              "      <td>45904.335241</td>\n",
              "      <td>0.009669</td>\n",
              "      <td>0.829535</td>\n",
              "      <td>0.0</td>\n",
              "      <td>0.009308</td>\n",
              "      <td>12.243473</td>\n",
              "      <td>0.572110</td>\n",
              "      <td>0.193521</td>\n",
              "      <td>0.248183</td>\n",
              "      <td>0.001085</td>\n",
              "      <td>2146.061766</td>\n",
              "      <td>11.162191</td>\n",
              "    </tr>\n",
              "    <tr>\n",
              "      <th>std</th>\n",
              "      <td>2927.968932</td>\n",
              "      <td>15.854507</td>\n",
              "      <td>26973.610068</td>\n",
              "      <td>0.097858</td>\n",
              "      <td>0.376047</td>\n",
              "      <td>0.0</td>\n",
              "      <td>0.096028</td>\n",
              "      <td>1.238921</td>\n",
              "      <td>0.494781</td>\n",
              "      <td>0.395064</td>\n",
              "      <td>0.431966</td>\n",
              "      <td>0.032927</td>\n",
              "      <td>923.911126</td>\n",
              "      <td>1.352713</td>\n",
              "    </tr>\n",
              "    <tr>\n",
              "      <th>min</th>\n",
              "      <td>1231.000000</td>\n",
              "      <td>6.000000</td>\n",
              "      <td>10101.000000</td>\n",
              "      <td>0.000000</td>\n",
              "      <td>0.000000</td>\n",
              "      <td>0.0</td>\n",
              "      <td>0.000000</td>\n",
              "      <td>5.000000</td>\n",
              "      <td>0.000000</td>\n",
              "      <td>0.000000</td>\n",
              "      <td>0.000000</td>\n",
              "      <td>0.000000</td>\n",
              "      <td>2.000000</td>\n",
              "      <td>2.287018</td>\n",
              "    </tr>\n",
              "    <tr>\n",
              "      <th>25%</th>\n",
              "      <td>1253.000000</td>\n",
              "      <td>13.000000</td>\n",
              "      <td>40104.000000</td>\n",
              "      <td>0.000000</td>\n",
              "      <td>1.000000</td>\n",
              "      <td>0.0</td>\n",
              "      <td>0.000000</td>\n",
              "      <td>11.400000</td>\n",
              "      <td>0.000000</td>\n",
              "      <td>0.000000</td>\n",
              "      <td>0.000000</td>\n",
              "      <td>0.000000</td>\n",
              "      <td>2240.000000</td>\n",
              "      <td>10.444683</td>\n",
              "    </tr>\n",
              "    <tr>\n",
              "      <th>50%</th>\n",
              "      <td>1294.000000</td>\n",
              "      <td>24.000000</td>\n",
              "      <td>40112.000000</td>\n",
              "      <td>0.000000</td>\n",
              "      <td>1.000000</td>\n",
              "      <td>0.0</td>\n",
              "      <td>0.000000</td>\n",
              "      <td>12.200000</td>\n",
              "      <td>1.000000</td>\n",
              "      <td>0.000000</td>\n",
              "      <td>0.000000</td>\n",
              "      <td>0.000000</td>\n",
              "      <td>2403.000000</td>\n",
              "      <td>11.268231</td>\n",
              "    </tr>\n",
              "    <tr>\n",
              "      <th>75%</th>\n",
              "      <td>1335.000000</td>\n",
              "      <td>39.000000</td>\n",
              "      <td>40129.000000</td>\n",
              "      <td>0.000000</td>\n",
              "      <td>1.000000</td>\n",
              "      <td>0.0</td>\n",
              "      <td>0.000000</td>\n",
              "      <td>13.000000</td>\n",
              "      <td>1.000000</td>\n",
              "      <td>0.000000</td>\n",
              "      <td>0.000000</td>\n",
              "      <td>0.000000</td>\n",
              "      <td>2430.000000</td>\n",
              "      <td>11.993505</td>\n",
              "    </tr>\n",
              "    <tr>\n",
              "      <th>max</th>\n",
              "      <td>23338.000000</td>\n",
              "      <td>60.000000</td>\n",
              "      <td>250302.000000</td>\n",
              "      <td>1.000000</td>\n",
              "      <td>1.000000</td>\n",
              "      <td>0.0</td>\n",
              "      <td>1.000000</td>\n",
              "      <td>18.500000</td>\n",
              "      <td>1.000000</td>\n",
              "      <td>1.000000</td>\n",
              "      <td>1.000000</td>\n",
              "      <td>1.000000</td>\n",
              "      <td>4801.000000</td>\n",
              "      <td>18.247693</td>\n",
              "    </tr>\n",
              "  </tbody>\n",
              "</table>\n",
              "</div>"
            ],
            "text/plain": [
              "          Renipress     EdadMeses  ...       ALTITUD           HBC\n",
              "count  30405.000000  30405.000000  ...  30405.000000  30405.000000\n",
              "mean    1919.792468     26.597994  ...   2146.061766     11.162191\n",
              "std     2927.968932     15.854507  ...    923.911126      1.352713\n",
              "min     1231.000000      6.000000  ...      2.000000      2.287018\n",
              "25%     1253.000000     13.000000  ...   2240.000000     10.444683\n",
              "50%     1294.000000     24.000000  ...   2403.000000     11.268231\n",
              "75%     1335.000000     39.000000  ...   2430.000000     11.993505\n",
              "max    23338.000000     60.000000  ...   4801.000000     18.247693\n",
              "\n",
              "[8 rows x 14 columns]"
            ]
          },
          "metadata": {},
          "execution_count": 19
        }
      ]
    },
    {
      "cell_type": "code",
      "metadata": {
        "colab": {
          "base_uri": "https://localhost:8080/",
          "height": 282
        },
        "id": "0OrmrjXEpmBz",
        "outputId": "7ffc5db4-ee44-481d-ca54-c61b5e089fa7"
      },
      "source": [
        "import matplotlib.pyplot as plt\n",
        "\n",
        "data = data_HB_arequipa_19\n",
        "\n",
        "#Gráfico de dispersión\n",
        "aux = data[data['Dx_Anemia'] == 'Normal']\n",
        "plt.scatter(aux['ALTITUD'],aux['Hemoglobina'], c='blue')\n",
        "aux = data[data['Dx_Anemia'] == 'Anemia Leve']\n",
        "plt.scatter(aux['ALTITUD'],aux['Hemoglobina'], c='yellow')\n",
        "aux = data[data['Dx_Anemia'] == 'Anemia Moderada']\n",
        "plt.scatter(aux['ALTITUD'],aux['Hemoglobina'], c='orange')\n",
        "aux = data[data['Dx_Anemia'] == 'Anemia Severa']\n",
        "plt.scatter(aux['ALTITUD'],aux['Hemoglobina'], c='red')"
      ],
      "execution_count": 21,
      "outputs": [
        {
          "output_type": "execute_result",
          "data": {
            "text/plain": [
              "<matplotlib.collections.PathCollection at 0x7f574d0dc5d0>"
            ]
          },
          "metadata": {},
          "execution_count": 21
        },
        {
          "output_type": "display_data",
          "data": {
            "image/png": "[encoded data removed]",
            "text/plain": [
              "<Figure size 432x288 with 1 Axes>"
            ]
          },
          "metadata": {
            "needs_background": "light"
          }
        }
      ]
    },
    {
      "cell_type": "markdown",
      "metadata": {
        "id": "eC4e-pv_oHz-"
      },
      "source": [
        "Podemos ver las primeras 3 filas para tener un mejor entendimiento:"
      ]
    },
    {
      "cell_type": "code",
      "metadata": {
        "colab": {
          "base_uri": "https://localhost:8080/",
          "height": 476
        },
        "id": "c_DvXya3sUBJ",
        "outputId": "3bc9902d-f79e-4813-a05e-a49ff8bcd1b5"
      },
      "source": [
        "data_HB_arequipa_19.head(3)"
      ],
      "execution_count": 3,
      "outputs": [
        {
          "output_type": "execute_result",
          "data": {
            "text/html": [
              "<div>\n",
              "<style scoped>\n",
              "    .dataframe tbody tr th:only-of-type {\n",
              "        vertical-align: middle;\n",
              "    }\n",
              "\n",
              "    .dataframe tbody tr th {\n",
              "        vertical-align: top;\n",
              "    }\n",
              "\n",
              "    .dataframe thead th {\n",
              "        text-align: right;\n",
              "    }\n",
              "</style>\n",
              "<table border=\"1\" class=\"dataframe\">\n",
              "  <thead>\n",
              "    <tr style=\"text-align: right;\">\n",
              "      <th></th>\n",
              "      <th>Diresa</th>\n",
              "      <th>Red</th>\n",
              "      <th>Microred</th>\n",
              "      <th>EESS</th>\n",
              "      <th>Renipress</th>\n",
              "      <th>FechaAtencion</th>\n",
              "      <th>Sexo</th>\n",
              "      <th>FechaNacimiento</th>\n",
              "      <th>EdadMeses</th>\n",
              "      <th>UbigeoPN</th>\n",
              "      <th>DepartamentoPN</th>\n",
              "      <th>ProvinciaPN</th>\n",
              "      <th>DistritoPN</th>\n",
              "      <th>CentroPobladoPN</th>\n",
              "      <th>Juntos</th>\n",
              "      <th>SIS</th>\n",
              "      <th>Pin</th>\n",
              "      <th>Qaliwarma</th>\n",
              "      <th>Peso</th>\n",
              "      <th>Talla</th>\n",
              "      <th>Hemoglobina</th>\n",
              "      <th>FechaHemoglobina</th>\n",
              "      <th>Cred</th>\n",
              "      <th>Suplementacion</th>\n",
              "      <th>Consejeria</th>\n",
              "      <th>Sesion</th>\n",
              "      <th>DEPARTAMENTO</th>\n",
              "      <th>PROVINCIA</th>\n",
              "      <th>DISTRITO</th>\n",
              "      <th>ALTITUD</th>\n",
              "      <th>HBC</th>\n",
              "      <th>Dx_Anemia</th>\n",
              "    </tr>\n",
              "  </thead>\n",
              "  <tbody>\n",
              "    <tr>\n",
              "      <th>0</th>\n",
              "      <td>AREQUIPA</td>\n",
              "      <td>CASTILLA CONDESUYOS - LA UNION</td>\n",
              "      <td>VIRACO</td>\n",
              "      <td>I-1   - 00001400 - PUESTO DE SALUD TIPAN</td>\n",
              "      <td>1400</td>\n",
              "      <td>2/3/2019</td>\n",
              "      <td>M</td>\n",
              "      <td>2/3/2015</td>\n",
              "      <td>48</td>\n",
              "      <td>40411.0</td>\n",
              "      <td>AREQUIPA</td>\n",
              "      <td>CASTILLA</td>\n",
              "      <td>TIPAN</td>\n",
              "      <td>PARACOLCA, OTROS</td>\n",
              "      <td>0</td>\n",
              "      <td>1</td>\n",
              "      <td>0</td>\n",
              "      <td>0</td>\n",
              "      <td>20.2</td>\n",
              "      <td>10.2</td>\n",
              "      <td>12.2</td>\n",
              "      <td>2/3/2019</td>\n",
              "      <td>1</td>\n",
              "      <td>0</td>\n",
              "      <td>0</td>\n",
              "      <td>0</td>\n",
              "      <td>AREQUIPA</td>\n",
              "      <td>CASTILLA</td>\n",
              "      <td>TIPAN</td>\n",
              "      <td>1913</td>\n",
              "      <td>11.525253</td>\n",
              "      <td>Normal</td>\n",
              "    </tr>\n",
              "    <tr>\n",
              "      <th>1</th>\n",
              "      <td>AREQUIPA</td>\n",
              "      <td>CASTILLA CONDESUYOS - LA UNION</td>\n",
              "      <td>VIRACO</td>\n",
              "      <td>I-1   - 00001401 - PUESTO DE SALUD TAGRE</td>\n",
              "      <td>1401</td>\n",
              "      <td>4/24/2019</td>\n",
              "      <td>M</td>\n",
              "      <td>4/21/2015</td>\n",
              "      <td>48</td>\n",
              "      <td>40411.0</td>\n",
              "      <td>AREQUIPA</td>\n",
              "      <td>CASTILLA</td>\n",
              "      <td>TIPAN</td>\n",
              "      <td>TAGRE, ANEXO</td>\n",
              "      <td>0</td>\n",
              "      <td>1</td>\n",
              "      <td>0</td>\n",
              "      <td>0</td>\n",
              "      <td></td>\n",
              "      <td></td>\n",
              "      <td>12.0</td>\n",
              "      <td>4/24/2019</td>\n",
              "      <td>1</td>\n",
              "      <td>1</td>\n",
              "      <td>0</td>\n",
              "      <td>0</td>\n",
              "      <td>AREQUIPA</td>\n",
              "      <td>CASTILLA</td>\n",
              "      <td>TIPAN</td>\n",
              "      <td>1913</td>\n",
              "      <td>11.325253</td>\n",
              "      <td>Normal</td>\n",
              "    </tr>\n",
              "    <tr>\n",
              "      <th>2</th>\n",
              "      <td>AREQUIPA</td>\n",
              "      <td>CASTILLA CONDESUYOS - LA UNION</td>\n",
              "      <td>VIRACO</td>\n",
              "      <td>I-1   - 00001400 - PUESTO DE SALUD TIPAN</td>\n",
              "      <td>1400</td>\n",
              "      <td>3/24/2019</td>\n",
              "      <td>F</td>\n",
              "      <td>3/24/2015</td>\n",
              "      <td>48</td>\n",
              "      <td>40411.0</td>\n",
              "      <td>AREQUIPA</td>\n",
              "      <td>CASTILLA</td>\n",
              "      <td>TIPAN</td>\n",
              "      <td>TIPAN, PUEBLO</td>\n",
              "      <td>0</td>\n",
              "      <td>1</td>\n",
              "      <td>0</td>\n",
              "      <td>0</td>\n",
              "      <td>15.3</td>\n",
              "      <td>94.9</td>\n",
              "      <td>12.9</td>\n",
              "      <td>3/24/2019</td>\n",
              "      <td>1</td>\n",
              "      <td>0</td>\n",
              "      <td>0</td>\n",
              "      <td>0</td>\n",
              "      <td>AREQUIPA</td>\n",
              "      <td>CASTILLA</td>\n",
              "      <td>TIPAN</td>\n",
              "      <td>1913</td>\n",
              "      <td>12.225253</td>\n",
              "      <td>Normal</td>\n",
              "    </tr>\n",
              "  </tbody>\n",
              "</table>\n",
              "</div>"
            ],
            "text/plain": [
              "     Diresa                             Red  ...        HBC Dx_Anemia\n",
              "0  AREQUIPA  CASTILLA CONDESUYOS - LA UNION  ...  11.525253    Normal\n",
              "1  AREQUIPA  CASTILLA CONDESUYOS - LA UNION  ...  11.325253    Normal\n",
              "2  AREQUIPA  CASTILLA CONDESUYOS - LA UNION  ...  12.225253    Normal\n",
              "\n",
              "[3 rows x 32 columns]"
            ]
          },
          "metadata": {},
          "execution_count": 3
        }
      ]
    },
    {
      "cell_type": "code",
      "metadata": {
        "colab": {
          "base_uri": "https://localhost:8080/"
        },
        "id": "wJ3oU5_0oM_m",
        "outputId": "96d0bae5-827e-4241-9b63-e2dba3c47111"
      },
      "source": [
        "pd.unique(data_HB_arequipa_19['Dx_Anemia'])"
      ],
      "execution_count": 9,
      "outputs": [
        {
          "output_type": "execute_result",
          "data": {
            "text/plain": [
              "array(['Normal', 'Anemia Leve', 'Anemia Moderada', 'Anemia Severa'],\n",
              "      dtype=object)"
            ]
          },
          "metadata": {},
          "execution_count": 9
        }
      ]
    },
    {
      "cell_type": "markdown",
      "metadata": {
        "id": "LpoOC9vToR6f"
      },
      "source": [
        "### Data PT"
      ]
    },
    {
      "cell_type": "code",
      "metadata": {
        "id": "SXgvPbrwHug5",
        "colab": {
          "base_uri": "https://localhost:8080/",
          "height": 476
        },
        "outputId": "00989088-20a4-453e-eb7f-3bcb5a38f6cf"
      },
      "source": [
        "data_PT_arequipa_19.head(3)"
      ],
      "execution_count": 4,
      "outputs": [
        {
          "output_type": "execute_result",
          "data": {
            "text/html": [
              "<div>\n",
              "<style scoped>\n",
              "    .dataframe tbody tr th:only-of-type {\n",
              "        vertical-align: middle;\n",
              "    }\n",
              "\n",
              "    .dataframe tbody tr th {\n",
              "        vertical-align: top;\n",
              "    }\n",
              "\n",
              "    .dataframe thead th {\n",
              "        text-align: right;\n",
              "    }\n",
              "</style>\n",
              "<table border=\"1\" class=\"dataframe\">\n",
              "  <thead>\n",
              "    <tr style=\"text-align: right;\">\n",
              "      <th></th>\n",
              "      <th>Diresa</th>\n",
              "      <th>Red</th>\n",
              "      <th>Microred</th>\n",
              "      <th>EESS</th>\n",
              "      <th>Renipress</th>\n",
              "      <th>FechaAtencion</th>\n",
              "      <th>Sexo</th>\n",
              "      <th>FechaNacimiento</th>\n",
              "      <th>EdadMeses</th>\n",
              "      <th>UbigeoPN</th>\n",
              "      <th>DepartamentoPN</th>\n",
              "      <th>ProvinciaPN</th>\n",
              "      <th>DistritoPN</th>\n",
              "      <th>CentroPobladoPN</th>\n",
              "      <th>Juntos</th>\n",
              "      <th>SIS</th>\n",
              "      <th>Pin</th>\n",
              "      <th>Qaliwarma</th>\n",
              "      <th>Peso</th>\n",
              "      <th>Talla</th>\n",
              "      <th>PTZ</th>\n",
              "      <th>ZTE</th>\n",
              "      <th>ZPE</th>\n",
              "      <th>Alerta</th>\n",
              "      <th>Dx_PT</th>\n",
              "      <th>Dx_TE</th>\n",
              "      <th>Dx_PE</th>\n",
              "      <th>Hemoglobina</th>\n",
              "      <th>FechaHemoglobina</th>\n",
              "      <th>Cred</th>\n",
              "      <th>Suplementacion</th>\n",
              "      <th>Consejeria</th>\n",
              "      <th>Sesion</th>\n",
              "      <th>DEPARTAMENTO</th>\n",
              "      <th>PROVINCIA</th>\n",
              "      <th>DISTRITO</th>\n",
              "      <th>ALTITUD</th>\n",
              "    </tr>\n",
              "  </thead>\n",
              "  <tbody>\n",
              "    <tr>\n",
              "      <th>0</th>\n",
              "      <td>AREQUIPA</td>\n",
              "      <td>CASTILLA CONDESUYOS - LA UNION</td>\n",
              "      <td>ANDAGUA</td>\n",
              "      <td>I-2   - 00001404 - PUESTO DE SALUD AYO</td>\n",
              "      <td>1404</td>\n",
              "      <td>3/29/2019</td>\n",
              "      <td>F</td>\n",
              "      <td>11/9/2014</td>\n",
              "      <td>52</td>\n",
              "      <td>40403.0</td>\n",
              "      <td>AREQUIPA</td>\n",
              "      <td>CASTILLA</td>\n",
              "      <td>AYO</td>\n",
              "      <td>AYO, PUEBLO</td>\n",
              "      <td>0</td>\n",
              "      <td>1</td>\n",
              "      <td>0</td>\n",
              "      <td>0</td>\n",
              "      <td>19.5</td>\n",
              "      <td>107.5</td>\n",
              "      <td>1.04</td>\n",
              "      <td>0.47</td>\n",
              "      <td>0.98</td>\n",
              "      <td></td>\n",
              "      <td>Normal</td>\n",
              "      <td>Normal</td>\n",
              "      <td>Normal</td>\n",
              "      <td></td>\n",
              "      <td></td>\n",
              "      <td>1</td>\n",
              "      <td>0</td>\n",
              "      <td>0</td>\n",
              "      <td>0</td>\n",
              "      <td>AREQUIPA</td>\n",
              "      <td>CASTILLA</td>\n",
              "      <td>AYO</td>\n",
              "      <td>1956</td>\n",
              "    </tr>\n",
              "    <tr>\n",
              "      <th>1</th>\n",
              "      <td>AREQUIPA</td>\n",
              "      <td>CASTILLA CONDESUYOS - LA UNION</td>\n",
              "      <td>VIRACO</td>\n",
              "      <td>I-1   - 00001400 - PUESTO DE SALUD TIPAN</td>\n",
              "      <td>1400</td>\n",
              "      <td>9/24/2019</td>\n",
              "      <td>F</td>\n",
              "      <td>12/9/2014</td>\n",
              "      <td>57</td>\n",
              "      <td>40411.0</td>\n",
              "      <td>AREQUIPA</td>\n",
              "      <td>CASTILLA</td>\n",
              "      <td>TIPAN</td>\n",
              "      <td>YACMES, ANEXO</td>\n",
              "      <td>0</td>\n",
              "      <td>1</td>\n",
              "      <td>0</td>\n",
              "      <td>0</td>\n",
              "      <td>17.0</td>\n",
              "      <td>105.0</td>\n",
              "      <td>0.14</td>\n",
              "      <td>-0.66</td>\n",
              "      <td>-0.31</td>\n",
              "      <td></td>\n",
              "      <td>Normal</td>\n",
              "      <td>Normal</td>\n",
              "      <td>Normal</td>\n",
              "      <td></td>\n",
              "      <td></td>\n",
              "      <td>0</td>\n",
              "      <td>0</td>\n",
              "      <td>0</td>\n",
              "      <td>0</td>\n",
              "      <td>AREQUIPA</td>\n",
              "      <td>CASTILLA</td>\n",
              "      <td>TIPAN</td>\n",
              "      <td>1913</td>\n",
              "    </tr>\n",
              "    <tr>\n",
              "      <th>2</th>\n",
              "      <td>AREQUIPA</td>\n",
              "      <td>CASTILLA CONDESUYOS - LA UNION</td>\n",
              "      <td>VIRACO</td>\n",
              "      <td>I-1   - 00001401 - PUESTO DE SALUD TAGRE</td>\n",
              "      <td>1401</td>\n",
              "      <td>8/17/2019</td>\n",
              "      <td>M</td>\n",
              "      <td>4/21/2015</td>\n",
              "      <td>52</td>\n",
              "      <td>40411.0</td>\n",
              "      <td>AREQUIPA</td>\n",
              "      <td>CASTILLA</td>\n",
              "      <td>TIPAN</td>\n",
              "      <td>TAGRE, ANEXO</td>\n",
              "      <td>0</td>\n",
              "      <td>1</td>\n",
              "      <td>0</td>\n",
              "      <td>0</td>\n",
              "      <td>17.0</td>\n",
              "      <td>103.8</td>\n",
              "      <td>0.37</td>\n",
              "      <td>-0.39</td>\n",
              "      <td>0.00</td>\n",
              "      <td></td>\n",
              "      <td>Normal</td>\n",
              "      <td>Normal</td>\n",
              "      <td>Normal</td>\n",
              "      <td></td>\n",
              "      <td></td>\n",
              "      <td>1</td>\n",
              "      <td>0</td>\n",
              "      <td>0</td>\n",
              "      <td>0</td>\n",
              "      <td>AREQUIPA</td>\n",
              "      <td>CASTILLA</td>\n",
              "      <td>TIPAN</td>\n",
              "      <td>1913</td>\n",
              "    </tr>\n",
              "  </tbody>\n",
              "</table>\n",
              "</div>"
            ],
            "text/plain": [
              "     Diresa                             Red  ... DISTRITO ALTITUD\n",
              "0  AREQUIPA  CASTILLA CONDESUYOS - LA UNION  ...      AYO    1956\n",
              "1  AREQUIPA  CASTILLA CONDESUYOS - LA UNION  ...    TIPAN    1913\n",
              "2  AREQUIPA  CASTILLA CONDESUYOS - LA UNION  ...    TIPAN    1913\n",
              "\n",
              "[3 rows x 37 columns]"
            ]
          },
          "metadata": {},
          "execution_count": 4
        }
      ]
    }
  ]
}